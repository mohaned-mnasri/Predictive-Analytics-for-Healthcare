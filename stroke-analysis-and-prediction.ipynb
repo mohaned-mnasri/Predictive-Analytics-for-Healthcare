{
 "cells": [
  {
   "cell_type": "markdown",
   "id": "a7bdae0b",
   "metadata": {
    "papermill": {
     "duration": 0.023562,
     "end_time": "2023-06-19T03:12:48.767517",
     "exception": false,
     "start_time": "2023-06-19T03:12:48.743955",
     "status": "completed"
    },
    "tags": []
   },
   "source": [
    "# Introduction\n",
    "According to the World Health Organization (WHO) stroke is the 2nd leading cause of death globally, responsible for approximately 11% of total deaths. \n",
    "This dataset is used to predict whether a patient is likely to get stroke based on the input parameters like gender, age, various diseases, and smoking status. Each row in the data provides relavant information about the patient"
   ]
  },
  {
   "cell_type": "markdown",
   "id": "c92eb1b5",
   "metadata": {
    "papermill": {
     "duration": 0.022855,
     "end_time": "2023-06-19T03:12:48.814388",
     "exception": false,
     "start_time": "2023-06-19T03:12:48.791533",
     "status": "completed"
    },
    "tags": []
   },
   "source": [
    "# Aim\n",
    "The aim of this study is understand some of the leading causes of strokes, and in hopes to make predictions as to if a patient is likely to suffer from a stroke."
   ]
  },
  {
   "cell_type": "markdown",
   "id": "7463e9a3",
   "metadata": {
    "papermill": {
     "duration": 0.022704,
     "end_time": "2023-06-19T03:12:48.859911",
     "exception": false,
     "start_time": "2023-06-19T03:12:48.837207",
     "status": "completed"
    },
    "tags": []
   },
   "source": [
    "# About the dataset\n",
    " The dataset contains the following column:\n",
    "*  id: unique identifier\n",
    "*  gender: \"Male\", \"Female\" or \"Other\"\n",
    "*  age: age of the patient\n",
    "*  hypertension: 0 if the patient doesn't have hypertension, 1 if the patient has hypertension\n",
    "*  heart_disease: 0 if the patient doesn't have any heart diseases, 1 if the patient has a heart disease\n",
    "*  ever_married: \"No\" or \"Yes\"\n",
    "*  work_type: \"children\", \"Govt_jov\", \"Never_worked\", \"Private\" or \"Self-employed\"\n",
    "*  Residence_type: \"Rural\" or \"Urban\"\n",
    "*  avg_glucose_level: average glucose level in blood\n",
    "*  bmi: body mass index\n",
    "*  smoking_status: \"formerly smoked\", \"never smoked\", \"smokes\" or \"Unknown\"*\n",
    "*  stroke: 1 if the patient had a stroke or 0 if not"
   ]
  },
  {
   "cell_type": "code",
   "execution_count": 3,
   "id": "0d720cc8",
   "metadata": {
    "_cell_guid": "b1076dfc-b9ad-4769-8c92-a6c4dae69d19",
    "_uuid": "8f2839f25d086af736a60e9eeb907d3b93b6e0e5",
    "papermill": {
     "duration": 1.714123,
     "end_time": "2023-06-19T03:12:50.596639",
     "exception": false,
     "start_time": "2023-06-19T03:12:48.882516",
     "status": "completed"
    },
    "tags": []
   },
   "outputs": [
    {
     "name": "stdout",
     "output_type": "stream",
     "text": [
      "data/heart_failure_clinical_records_dataset.csv\n",
      "data/RELIANCE.csv\n",
      "data/healthcare-dataset-stroke-data.csv\n"
     ]
    }
   ],
   "source": [
    "#load libraries\n",
    "import numpy as np \n",
    "import pandas as pd \n",
    "import matplotlib.pyplot as plt\n",
    "import seaborn as sns\n",
    "import os\n",
    "for dirname, _, filenames in os.walk('data'):\n",
    "    for filename in filenames:\n",
    "        print(os.path.join(dirname, filename))"
   ]
  },
  {
   "cell_type": "code",
   "execution_count": 4,
   "id": "a632bd5e",
   "metadata": {
    "papermill": {
     "duration": 0.067928,
     "end_time": "2023-06-19T03:12:50.687439",
     "exception": false,
     "start_time": "2023-06-19T03:12:50.619511",
     "status": "completed"
    },
    "tags": []
   },
   "outputs": [],
   "source": [
    "#read dataframe\n",
    "stroke_df = pd.read_csv('data/healthcare-dataset-stroke-data.csv')"
   ]
  },
  {
   "cell_type": "code",
   "execution_count": 5,
   "id": "65477154",
   "metadata": {
    "papermill": {
     "duration": 0.074684,
     "end_time": "2023-06-19T03:12:50.785123",
     "exception": false,
     "start_time": "2023-06-19T03:12:50.710439",
     "status": "completed"
    },
    "tags": []
   },
   "outputs": [
    {
     "name": "stdout",
     "output_type": "stream",
     "text": [
      "<class 'pandas.core.frame.DataFrame'>\n",
      "RangeIndex: 5110 entries, 0 to 5109\n",
      "Data columns (total 12 columns):\n",
      " #   Column             Non-Null Count  Dtype  \n",
      "---  ------             --------------  -----  \n",
      " 0   id                 5110 non-null   int64  \n",
      " 1   gender             5110 non-null   object \n",
      " 2   age                5110 non-null   float64\n",
      " 3   hypertension       5110 non-null   int64  \n",
      " 4   heart_disease      5110 non-null   int64  \n",
      " 5   ever_married       5110 non-null   object \n",
      " 6   work_type          5110 non-null   object \n",
      " 7   Residence_type     5110 non-null   object \n",
      " 8   avg_glucose_level  5110 non-null   float64\n",
      " 9   bmi                4909 non-null   float64\n",
      " 10  smoking_status     5110 non-null   object \n",
      " 11  stroke             5110 non-null   int64  \n",
      "dtypes: float64(3), int64(4), object(5)\n",
      "memory usage: 479.2+ KB\n"
     ]
    }
   ],
   "source": [
    "#get information about the dataframe\n",
    "stroke_df.info()"
   ]
  },
  {
   "cell_type": "markdown",
   "id": "cebee543",
   "metadata": {
    "papermill": {
     "duration": 0.023466,
     "end_time": "2023-06-19T03:12:50.833510",
     "exception": false,
     "start_time": "2023-06-19T03:12:50.810044",
     "status": "completed"
    },
    "tags": []
   },
   "source": [
    "So far we have 5110 rows and 12 columns. It seems that we have some missing data. So will remove the missing bmi data."
   ]
  },
  {
   "cell_type": "code",
   "execution_count": 6,
   "id": "47ad45c2",
   "metadata": {
    "papermill": {
     "duration": 0.044229,
     "end_time": "2023-06-19T03:12:50.900778",
     "exception": false,
     "start_time": "2023-06-19T03:12:50.856549",
     "status": "completed"
    },
    "tags": []
   },
   "outputs": [],
   "source": [
    "stroke_df.dropna(inplace = True)"
   ]
  },
  {
   "cell_type": "code",
   "execution_count": 7,
   "id": "d3c1d364",
   "metadata": {
    "papermill": {
     "duration": 0.045498,
     "end_time": "2023-06-19T03:12:50.969459",
     "exception": false,
     "start_time": "2023-06-19T03:12:50.923961",
     "status": "completed"
    },
    "tags": []
   },
   "outputs": [
    {
     "data": {
      "text/plain": [
       "id                   0\n",
       "gender               0\n",
       "age                  0\n",
       "hypertension         0\n",
       "heart_disease        0\n",
       "ever_married         0\n",
       "work_type            0\n",
       "Residence_type       0\n",
       "avg_glucose_level    0\n",
       "bmi                  0\n",
       "smoking_status       0\n",
       "stroke               0\n",
       "dtype: int64"
      ]
     },
     "execution_count": 7,
     "metadata": {},
     "output_type": "execute_result"
    }
   ],
   "source": [
    "stroke_df.isna().sum()"
   ]
  },
  {
   "cell_type": "code",
   "execution_count": 8,
   "id": "376a8b30",
   "metadata": {
    "papermill": {
     "duration": 0.044679,
     "end_time": "2023-06-19T03:12:51.037300",
     "exception": false,
     "start_time": "2023-06-19T03:12:50.992621",
     "status": "completed"
    },
    "tags": []
   },
   "outputs": [
    {
     "data": {
      "text/plain": [
       "0"
      ]
     },
     "execution_count": 8,
     "metadata": {},
     "output_type": "execute_result"
    }
   ],
   "source": [
    "#Let's check for duplicated data\n",
    "stroke_df.duplicated().sum()"
   ]
  },
  {
   "cell_type": "markdown",
   "id": "f0177e84",
   "metadata": {
    "papermill": {
     "duration": 0.023398,
     "end_time": "2023-06-19T03:12:51.084300",
     "exception": false,
     "start_time": "2023-06-19T03:12:51.060902",
     "status": "completed"
    },
    "tags": []
   },
   "source": [
    "# Explanatory Data Analysis\n",
    "Let's start with the three numerical columns, age, average glucose level and bmi."
   ]
  },
  {
   "cell_type": "code",
   "execution_count": 9,
   "id": "32ac0384",
   "metadata": {
    "papermill": {
     "duration": 0.066994,
     "end_time": "2023-06-19T03:12:51.174452",
     "exception": false,
     "start_time": "2023-06-19T03:12:51.107458",
     "status": "completed"
    },
    "tags": []
   },
   "outputs": [
    {
     "data": {
      "text/html": [
       "<div>\n",
       "<style scoped>\n",
       "    .dataframe tbody tr th:only-of-type {\n",
       "        vertical-align: middle;\n",
       "    }\n",
       "\n",
       "    .dataframe tbody tr th {\n",
       "        vertical-align: top;\n",
       "    }\n",
       "\n",
       "    .dataframe thead th {\n",
       "        text-align: right;\n",
       "    }\n",
       "</style>\n",
       "<table border=\"1\" class=\"dataframe\">\n",
       "  <thead>\n",
       "    <tr style=\"text-align: right;\">\n",
       "      <th></th>\n",
       "      <th>age</th>\n",
       "      <th>avg_glucose_level</th>\n",
       "      <th>bmi</th>\n",
       "    </tr>\n",
       "  </thead>\n",
       "  <tbody>\n",
       "    <tr>\n",
       "      <th>count</th>\n",
       "      <td>4909.000000</td>\n",
       "      <td>4909.000000</td>\n",
       "      <td>4909.000000</td>\n",
       "    </tr>\n",
       "    <tr>\n",
       "      <th>mean</th>\n",
       "      <td>42.865374</td>\n",
       "      <td>105.305150</td>\n",
       "      <td>28.893237</td>\n",
       "    </tr>\n",
       "    <tr>\n",
       "      <th>std</th>\n",
       "      <td>22.555115</td>\n",
       "      <td>44.424341</td>\n",
       "      <td>7.854067</td>\n",
       "    </tr>\n",
       "    <tr>\n",
       "      <th>min</th>\n",
       "      <td>0.080000</td>\n",
       "      <td>55.120000</td>\n",
       "      <td>10.300000</td>\n",
       "    </tr>\n",
       "    <tr>\n",
       "      <th>25%</th>\n",
       "      <td>25.000000</td>\n",
       "      <td>77.070000</td>\n",
       "      <td>23.500000</td>\n",
       "    </tr>\n",
       "    <tr>\n",
       "      <th>50%</th>\n",
       "      <td>44.000000</td>\n",
       "      <td>91.680000</td>\n",
       "      <td>28.100000</td>\n",
       "    </tr>\n",
       "    <tr>\n",
       "      <th>75%</th>\n",
       "      <td>60.000000</td>\n",
       "      <td>113.570000</td>\n",
       "      <td>33.100000</td>\n",
       "    </tr>\n",
       "    <tr>\n",
       "      <th>max</th>\n",
       "      <td>82.000000</td>\n",
       "      <td>271.740000</td>\n",
       "      <td>97.600000</td>\n",
       "    </tr>\n",
       "  </tbody>\n",
       "</table>\n",
       "</div>"
      ],
      "text/plain": [
       "               age  avg_glucose_level          bmi\n",
       "count  4909.000000        4909.000000  4909.000000\n",
       "mean     42.865374         105.305150    28.893237\n",
       "std      22.555115          44.424341     7.854067\n",
       "min       0.080000          55.120000    10.300000\n",
       "25%      25.000000          77.070000    23.500000\n",
       "50%      44.000000          91.680000    28.100000\n",
       "75%      60.000000         113.570000    33.100000\n",
       "max      82.000000         271.740000    97.600000"
      ]
     },
     "execution_count": 9,
     "metadata": {},
     "output_type": "execute_result"
    }
   ],
   "source": [
    " stroke_df[['age','avg_glucose_level','bmi']].describe()"
   ]
  },
  {
   "cell_type": "markdown",
   "id": "73daafed",
   "metadata": {
    "papermill": {
     "duration": 0.023442,
     "end_time": "2023-06-19T03:12:51.221466",
     "exception": false,
     "start_time": "2023-06-19T03:12:51.198024",
     "status": "completed"
    },
    "tags": []
   },
   "source": [
    "# Distribution and Spread"
   ]
  },
  {
   "cell_type": "code",
   "execution_count": 10,
   "id": "df18424e",
   "metadata": {
    "papermill": {
     "duration": 0.692571,
     "end_time": "2023-06-19T03:12:51.938426",
     "exception": false,
     "start_time": "2023-06-19T03:12:51.245855",
     "status": "completed"
    },
    "tags": []
   },
   "outputs": [
    {
     "data": {
      "text/plain": [
       "Text(0.5, 1.0, 'Spread of Patients Age')"
      ]
     },
     "execution_count": 10,
     "metadata": {},
     "output_type": "execute_result"
    },
    {
     "data": {
      "image/png": "[encoded data removed]",
      "text/plain": [
       "<Figure size 1500x600 with 2 Axes>"
      ]
     },
     "metadata": {},
     "output_type": "display_data"
    }
   ],
   "source": [
    "plt.figure(figsize = (15, 6))\n",
    "\n",
    "plt.subplot(1,2,1)\n",
    "stroke_df['age'].plot(kind='hist')\n",
    "plt.title('Distribution of Patients Age')\n",
    "plt.xlabel('Age')\n",
    "\n",
    "plt.subplot(1,2,2)\n",
    "stroke_df['age'].plot(kind='box')\n",
    "plt.title('Spread of Patients Age')"
   ]
  },
  {
   "cell_type": "markdown",
   "id": "59433b77",
   "metadata": {
    "papermill": {
     "duration": 0.023743,
     "end_time": "2023-06-19T03:12:51.986133",
     "exception": false,
     "start_time": "2023-06-19T03:12:51.962390",
     "status": "completed"
    },
    "tags": []
   },
   "source": [
    "The graphs above represents the distribution and spread of the ages in the dataset. With the  mean age set as 42, we can also see that distribrution is normal."
   ]
  },
  {
   "cell_type": "code",
   "execution_count": 11,
   "id": "a1f77864",
   "metadata": {
    "papermill": {
     "duration": 0.554569,
     "end_time": "2023-06-19T03:12:52.564944",
     "exception": false,
     "start_time": "2023-06-19T03:12:52.010375",
     "status": "completed"
    },
    "tags": []
   },
   "outputs": [
    {
     "data": {
      "text/plain": [
       "Text(0.5, 1.0, 'Spread of Patients Average glucose level')"
      ]
     },
     "execution_count": 11,
     "metadata": {},
     "output_type": "execute_result"
    },
    {
     "data": {
      "image/png": "[encoded data removed]",
      "text/plain": [
       "<Figure size 2500x600 with 2 Axes>"
      ]
     },
     "metadata": {},
     "output_type": "display_data"
    }
   ],
   "source": [
    "plt.figure(figsize = (25,6))\n",
    "plt.subplot(1,3,1)\n",
    "stroke_df['avg_glucose_level'].plot(kind='hist')\n",
    "plt.title('Distribrution of Patients Average Glucose Level')\n",
    "plt.xlabel('Average Glucose Level')\n",
    "\n",
    "plt.subplot(1,3,2)\n",
    "stroke_df['avg_glucose_level'].plot(kind='box')\n",
    "plt.title('Spread of Patients Average glucose level')"
   ]
  },
  {
   "cell_type": "markdown",
   "id": "5d29ec90",
   "metadata": {
    "papermill": {
     "duration": 0.024442,
     "end_time": "2023-06-19T03:12:52.614201",
     "exception": false,
     "start_time": "2023-06-19T03:12:52.589759",
     "status": "completed"
    },
    "tags": []
   },
   "source": [
    "The graphs above represents the distribution and spread of the average glucose level in the dataset. We can see that the distribution is right skewed and the spread of the average glucose level has a lot of outliers. We will possibly need to correct this through standardization later on."
   ]
  },
  {
   "cell_type": "code",
   "execution_count": 12,
   "id": "473e5b05",
   "metadata": {
    "papermill": {
     "duration": 0.581779,
     "end_time": "2023-06-19T03:12:53.220918",
     "exception": false,
     "start_time": "2023-06-19T03:12:52.639139",
     "status": "completed"
    },
    "tags": []
   },
   "outputs": [
    {
     "data": {
      "text/plain": [
       "Text(0.5, 1.0, 'Spread of patients BMI')"
      ]
     },
     "execution_count": 12,
     "metadata": {},
     "output_type": "execute_result"
    },
    {
     "data": {
      "image/png": "[encoded data removed]",
      "text/plain": [
       "<Figure size 2500x600 with 2 Axes>"
      ]
     },
     "metadata": {},
     "output_type": "display_data"
    }
   ],
   "source": [
    "plt.figure(figsize = (25, 6))\n",
    "\n",
    "plt.subplot(1,4,1)\n",
    "stroke_df['bmi'].plot(kind='hist')\n",
    "plt.title('Distribution of patients BMI')\n",
    "plt.xlabel('BMI')\n",
    "\n",
    "plt.subplot(1,4,2)\n",
    "stroke_df['bmi'].plot(kind='box')\n",
    "plt.title('Spread of patients BMI')"
   ]
  },
  {
   "cell_type": "markdown",
   "id": "6ee2beeb",
   "metadata": {
    "papermill": {
     "duration": 0.02747,
     "end_time": "2023-06-19T03:12:53.274927",
     "exception": false,
     "start_time": "2023-06-19T03:12:53.247457",
     "status": "completed"
    },
    "tags": []
   },
   "source": [
    "The graphs above represents the distribution and spread of the BMIs in the dataset. We can see that the distribution is right skewed and the spread of the average glucose level has a lot of outliers. We will correct this using standardization later on."
   ]
  },
  {
   "cell_type": "markdown",
   "id": "3f74fadc",
   "metadata": {
    "papermill": {
     "duration": 0.025543,
     "end_time": "2023-06-19T03:12:53.326204",
     "exception": false,
     "start_time": "2023-06-19T03:12:53.300661",
     "status": "completed"
    },
    "tags": []
   },
   "source": [
    "# Stroke Patients Analysis"
   ]
  },
  {
   "cell_type": "markdown",
   "id": "c61db006",
   "metadata": {
    "papermill": {
     "duration": 0.025978,
     "end_time": "2023-06-19T03:12:53.379328",
     "exception": false,
     "start_time": "2023-06-19T03:12:53.353350",
     "status": "completed"
    },
    "tags": []
   },
   "source": [
    "Let's look at Stroke. With 1 being that the patient had stroke and 0 being no stroke. Let's calculate how many patients had a stroke."
   ]
  },
  {
   "cell_type": "code",
   "execution_count": 13,
   "id": "6a0936d0",
   "metadata": {
    "papermill": {
     "duration": 0.038841,
     "end_time": "2023-06-19T03:12:53.443893",
     "exception": false,
     "start_time": "2023-06-19T03:12:53.405052",
     "status": "completed"
    },
    "tags": []
   },
   "outputs": [
    {
     "name": "stdout",
     "output_type": "stream",
     "text": [
      "The total patients who have had a stroke is 4909\n"
     ]
    }
   ],
   "source": [
    "stroke_counttotal = stroke_df[['stroke']].value_counts().sum()\n",
    "print('The total patients who have had a stroke is', stroke_counttotal)"
   ]
  },
  {
   "cell_type": "code",
   "execution_count": 14,
   "id": "f0c38187",
   "metadata": {
    "papermill": {
     "duration": 0.045163,
     "end_time": "2023-06-19T03:12:53.515835",
     "exception": false,
     "start_time": "2023-06-19T03:12:53.470672",
     "status": "completed"
    },
    "tags": []
   },
   "outputs": [
    {
     "data": {
      "text/html": [
       "<div>\n",
       "<style scoped>\n",
       "    .dataframe tbody tr th:only-of-type {\n",
       "        vertical-align: middle;\n",
       "    }\n",
       "\n",
       "    .dataframe tbody tr th {\n",
       "        vertical-align: top;\n",
       "    }\n",
       "\n",
       "    .dataframe thead th {\n",
       "        text-align: right;\n",
       "    }\n",
       "</style>\n",
       "<table border=\"1\" class=\"dataframe\">\n",
       "  <thead>\n",
       "    <tr style=\"text-align: right;\">\n",
       "      <th></th>\n",
       "      <th>stroke</th>\n",
       "      <th>count</th>\n",
       "      <th>percentage</th>\n",
       "    </tr>\n",
       "  </thead>\n",
       "  <tbody>\n",
       "    <tr>\n",
       "      <th>0</th>\n",
       "      <td>0</td>\n",
       "      <td>4700</td>\n",
       "      <td>95.742514</td>\n",
       "    </tr>\n",
       "    <tr>\n",
       "      <th>1</th>\n",
       "      <td>1</td>\n",
       "      <td>209</td>\n",
       "      <td>4.257486</td>\n",
       "    </tr>\n",
       "  </tbody>\n",
       "</table>\n",
       "</div>"
      ],
      "text/plain": [
       "   stroke  count  percentage\n",
       "0       0   4700   95.742514\n",
       "1       1    209    4.257486"
      ]
     },
     "execution_count": 14,
     "metadata": {},
     "output_type": "execute_result"
    }
   ],
   "source": [
    "stroke_count = stroke_df['stroke'].value_counts().reset_index(name='count')\n",
    "stroke_count.columns = ['stroke', 'count']\n",
    "stroke_count['percentage'] = (stroke_count['count'] / stroke_count['count'].sum()) * 100\n",
    "stroke_count"
   ]
  },
  {
   "cell_type": "code",
   "execution_count": 15,
   "id": "29fd81e8",
   "metadata": {
    "papermill": {
     "duration": 0.265936,
     "end_time": "2023-06-19T03:12:53.808340",
     "exception": false,
     "start_time": "2023-06-19T03:12:53.542404",
     "status": "completed"
    },
    "tags": []
   },
   "outputs": [
    {
     "data": {
      "text/plain": [
       "<Axes: xlabel='stroke', ylabel='percentage'>"
      ]
     },
     "execution_count": 15,
     "metadata": {},
     "output_type": "execute_result"
    },
    {
     "data": {
      "image/png": "[encoded data removed]",
      "text/plain": [
       "<Figure size 640x480 with 1 Axes>"
      ]
     },
     "metadata": {},
     "output_type": "display_data"
    }
   ],
   "source": [
    "sns.barplot(x='stroke', y = 'percentage', data = stroke_count)"
   ]
  },
  {
   "cell_type": "markdown",
   "id": "0bffc81c",
   "metadata": {
    "papermill": {
     "duration": 0.028384,
     "end_time": "2023-06-19T03:12:53.865920",
     "exception": false,
     "start_time": "2023-06-19T03:12:53.837536",
     "status": "completed"
    },
    "tags": []
   },
   "source": [
    "There are 4909 patients in this dataset. Of the 4909, 4% (209) of the patients had a stroke, while 96% didn't.\n",
    "Let's take a closer look at the patients who have had a stroke. "
   ]
  },
  {
   "cell_type": "markdown",
   "id": "7966871b",
   "metadata": {
    "execution": {
     "iopub.execute_input": "2023-05-23T02:19:05.877981Z",
     "iopub.status.busy": "2023-05-23T02:19:05.876970Z",
     "iopub.status.idle": "2023-05-23T02:19:05.884801Z",
     "shell.execute_reply": "2023-05-23T02:19:05.883493Z",
     "shell.execute_reply.started": "2023-05-23T02:19:05.877932Z"
    },
    "papermill": {
     "duration": 0.0262,
     "end_time": "2023-06-19T03:12:53.918775",
     "exception": false,
     "start_time": "2023-06-19T03:12:53.892575",
     "status": "completed"
    },
    "tags": []
   },
   "source": [
    "Let's take a closer look at the persons who had a stroke. We will zoom in closer on their age, gender, if they have hypertension, if they have heart disease, if they were ever married, their type of work,etc. "
   ]
  },
  {
   "cell_type": "code",
   "execution_count": 16,
   "id": "2f322ae5",
   "metadata": {
    "_kg_hide-input": true,
    "papermill": {
     "duration": 0.035611,
     "end_time": "2023-06-19T03:12:53.981150",
     "exception": false,
     "start_time": "2023-06-19T03:12:53.945539",
     "status": "completed"
    },
    "tags": []
   },
   "outputs": [],
   "source": [
    "condition = (1)\n",
    "stroke_patients = stroke_df[(stroke_df['stroke'] == 1)]"
   ]
  },
  {
   "cell_type": "markdown",
   "id": "34054e3a",
   "metadata": {
    "papermill": {
     "duration": 0.026907,
     "end_time": "2023-06-19T03:12:54.034462",
     "exception": false,
     "start_time": "2023-06-19T03:12:54.007555",
     "status": "completed"
    },
    "tags": []
   },
   "source": [
    "### Gender "
   ]
  },
  {
   "cell_type": "code",
   "execution_count": 17,
   "id": "87fa202e",
   "metadata": {
    "_kg_hide-input": true,
    "papermill": {
     "duration": 0.042441,
     "end_time": "2023-06-19T03:12:54.103872",
     "exception": false,
     "start_time": "2023-06-19T03:12:54.061431",
     "status": "completed"
    },
    "tags": []
   },
   "outputs": [
    {
     "data": {
      "text/html": [
       "<div>\n",
       "<style scoped>\n",
       "    .dataframe tbody tr th:only-of-type {\n",
       "        vertical-align: middle;\n",
       "    }\n",
       "\n",
       "    .dataframe tbody tr th {\n",
       "        vertical-align: top;\n",
       "    }\n",
       "\n",
       "    .dataframe thead th {\n",
       "        text-align: right;\n",
       "    }\n",
       "</style>\n",
       "<table border=\"1\" class=\"dataframe\">\n",
       "  <thead>\n",
       "    <tr style=\"text-align: right;\">\n",
       "      <th></th>\n",
       "      <th>gender</th>\n",
       "      <th>count</th>\n",
       "    </tr>\n",
       "  </thead>\n",
       "  <tbody>\n",
       "    <tr>\n",
       "      <th>0</th>\n",
       "      <td>Female</td>\n",
       "      <td>120</td>\n",
       "    </tr>\n",
       "    <tr>\n",
       "      <th>1</th>\n",
       "      <td>Male</td>\n",
       "      <td>89</td>\n",
       "    </tr>\n",
       "  </tbody>\n",
       "</table>\n",
       "</div>"
      ],
      "text/plain": [
       "   gender  count\n",
       "0  Female    120\n",
       "1    Male     89"
      ]
     },
     "execution_count": 17,
     "metadata": {},
     "output_type": "execute_result"
    }
   ],
   "source": [
    "#Gender of patients who have had a stroke\n",
    "gender_stroke = stroke_patients.groupby(['gender']).size().reset_index(name = 'count')\n",
    "gender_stroke"
   ]
  },
  {
   "cell_type": "code",
   "execution_count": 18,
   "id": "558ea713",
   "metadata": {
    "papermill": {
     "duration": 0.322263,
     "end_time": "2023-06-19T03:12:54.452568",
     "exception": false,
     "start_time": "2023-06-19T03:12:54.130305",
     "status": "completed"
    },
    "tags": []
   },
   "outputs": [
    {
     "data": {
      "text/plain": [
       "<Axes: title={'center': 'Bar Graph Comparing of Genders of Stroke Patients'}, xlabel='gender', ylabel='count'>"
      ]
     },
     "execution_count": 18,
     "metadata": {},
     "output_type": "execute_result"
    },
    {
     "data": {
      "image/png": "[encoded data removed]",
      "text/plain": [
       "<Figure size 640x480 with 1 Axes>"
      ]
     },
     "metadata": {},
     "output_type": "display_data"
    }
   ],
   "source": [
    "plt.title('Bar Graph Comparing of Genders of Stroke Patients')\n",
    "sns.barplot(x='gender', y = 'count', data = gender_stroke)"
   ]
  },
  {
   "cell_type": "markdown",
   "id": "b5800157",
   "metadata": {
    "papermill": {
     "duration": 0.02828,
     "end_time": "2023-06-19T03:12:54.508391",
     "exception": false,
     "start_time": "2023-06-19T03:12:54.480111",
     "status": "completed"
    },
    "tags": []
   },
   "source": [
    "The above bar chart shows the number of males and females who have had a stroke. Of the 209 patients, 120 women have had a stroke and 89 men have had a stroke. From this dataset 14% more women have had a stroke when compared to men."
   ]
  },
  {
   "cell_type": "markdown",
   "id": "c252fed4",
   "metadata": {
    "papermill": {
     "duration": 0.026927,
     "end_time": "2023-06-19T03:12:54.563178",
     "exception": false,
     "start_time": "2023-06-19T03:12:54.536251",
     "status": "completed"
    },
    "tags": []
   },
   "source": [
    "### Age"
   ]
  },
  {
   "cell_type": "code",
   "execution_count": 19,
   "id": "ed19caea",
   "metadata": {
    "_kg_hide-input": true,
    "_kg_hide-output": true,
    "papermill": {
     "duration": 0.039275,
     "end_time": "2023-06-19T03:12:54.629697",
     "exception": false,
     "start_time": "2023-06-19T03:12:54.590422",
     "status": "completed"
    },
    "tags": []
   },
   "outputs": [],
   "source": [
    "#let's look at the age of the patients who had a stroke\n",
    "age_stroke = stroke_patients.groupby(['age']).size().reset_index(name = 'count')"
   ]
  },
  {
   "cell_type": "markdown",
   "id": "45f2bdcb",
   "metadata": {
    "papermill": {
     "duration": 0.026777,
     "end_time": "2023-06-19T03:12:54.683755",
     "exception": false,
     "start_time": "2023-06-19T03:12:54.656978",
     "status": "completed"
    },
    "tags": []
   },
   "source": [
    "There are a wide range of ages, But here we can see that patients who are at the age of around 78 or 80 are more likely to have a stroke. Let's group the ages into 4 and see what age group of patients were more likely to have a stroke."
   ]
  },
  {
   "cell_type": "code",
   "execution_count": 20,
   "id": "f77c7d46",
   "metadata": {
    "papermill": {
     "duration": 0.050262,
     "end_time": "2023-06-19T03:12:54.761828",
     "exception": false,
     "start_time": "2023-06-19T03:12:54.711566",
     "status": "completed"
    },
    "tags": []
   },
   "outputs": [
    {
     "name": "stderr",
     "output_type": "stream",
     "text": [
      "/tmp/ipykernel_7031/721971363.py:3: SettingWithCopyWarning: \n",
      "A value is trying to be set on a copy of a slice from a DataFrame.\n",
      "Try using .loc[row_indexer,col_indexer] = value instead\n",
      "\n",
      "See the caveats in the documentation: https://pandas.pydata.org/pandas-docs/stable/user_guide/indexing.html#returning-a-view-versus-a-copy\n",
      "  stroke_patients['age_group'] = pd.cut(stroke_patients['age'], bins=age_ranges, labels=['0 to 24', '25 to 44', '45 to 59', '69 to 79', '80 to 99'])\n"
     ]
    },
    {
     "data": {
      "text/html": [
       "<div>\n",
       "<style scoped>\n",
       "    .dataframe tbody tr th:only-of-type {\n",
       "        vertical-align: middle;\n",
       "    }\n",
       "\n",
       "    .dataframe tbody tr th {\n",
       "        vertical-align: top;\n",
       "    }\n",
       "\n",
       "    .dataframe thead th {\n",
       "        text-align: right;\n",
       "    }\n",
       "</style>\n",
       "<table border=\"1\" class=\"dataframe\">\n",
       "  <thead>\n",
       "    <tr style=\"text-align: right;\">\n",
       "      <th></th>\n",
       "      <th>age_group</th>\n",
       "      <th>count</th>\n",
       "    </tr>\n",
       "  </thead>\n",
       "  <tbody>\n",
       "    <tr>\n",
       "      <th>0</th>\n",
       "      <td>0 to 24</td>\n",
       "      <td>1</td>\n",
       "    </tr>\n",
       "    <tr>\n",
       "      <th>1</th>\n",
       "      <td>25 to 44</td>\n",
       "      <td>10</td>\n",
       "    </tr>\n",
       "    <tr>\n",
       "      <th>2</th>\n",
       "      <td>45 to 59</td>\n",
       "      <td>52</td>\n",
       "    </tr>\n",
       "    <tr>\n",
       "      <th>3</th>\n",
       "      <td>69 to 79</td>\n",
       "      <td>123</td>\n",
       "    </tr>\n",
       "    <tr>\n",
       "      <th>4</th>\n",
       "      <td>80 to 99</td>\n",
       "      <td>23</td>\n",
       "    </tr>\n",
       "  </tbody>\n",
       "</table>\n",
       "</div>"
      ],
      "text/plain": [
       "  age_group  count\n",
       "0   0 to 24      1\n",
       "1  25 to 44     10\n",
       "2  45 to 59     52\n",
       "3  69 to 79    123\n",
       "4  80 to 99     23"
      ]
     },
     "execution_count": 20,
     "metadata": {},
     "output_type": "execute_result"
    }
   ],
   "source": [
    "age_ranges = [0, 24, 45, 60, 80, 100]\n",
    "\n",
    "stroke_patients['age_group'] = pd.cut(stroke_patients['age'], bins=age_ranges, labels=['0 to 24', '25 to 44', '45 to 59', '69 to 79', '80 to 99'])\n",
    "\n",
    "age_groups = stroke_patients.groupby(['age_group']).size().reset_index(name = 'count')\n",
    "age_groups "
   ]
  },
  {
   "cell_type": "code",
   "execution_count": 21,
   "id": "2a52e619",
   "metadata": {
    "papermill": {
     "duration": 0.368752,
     "end_time": "2023-06-19T03:12:55.158288",
     "exception": false,
     "start_time": "2023-06-19T03:12:54.789536",
     "status": "completed"
    },
    "tags": []
   },
   "outputs": [
    {
     "data": {
      "text/plain": [
       "Text(0.5, 1.0, 'Bar chart showing the age group of stroke patients')"
      ]
     },
     "execution_count": 21,
     "metadata": {},
     "output_type": "execute_result"
    },
    {
     "data": {
      "image/png": "[encoded data removed]",
      "text/plain": [
       "<Figure size 640x480 with 1 Axes>"
      ]
     },
     "metadata": {},
     "output_type": "display_data"
    }
   ],
   "source": [
    "sns.barplot(x='age_group', y='count', data = age_groups)\n",
    "plt.title('Bar chart showing the age group of stroke patients')"
   ]
  },
  {
   "cell_type": "markdown",
   "id": "83fd818a",
   "metadata": {
    "papermill": {
     "duration": 0.0281,
     "end_time": "2023-06-19T03:12:55.214387",
     "exception": false,
     "start_time": "2023-06-19T03:12:55.186287",
     "status": "completed"
    },
    "tags": []
   },
   "source": [
    "Here we can see that pattients between the ages of 68 to 79 were more likely to have a stroke. Patients who were also between the ages of 45 to 59, were next in line to have a stroke. The younger you are, your chances of having a stroke decreases."
   ]
  },
  {
   "cell_type": "markdown",
   "id": "1a0c2c22",
   "metadata": {
    "papermill": {
     "duration": 0.027818,
     "end_time": "2023-06-19T03:12:55.270193",
     "exception": false,
     "start_time": "2023-06-19T03:12:55.242375",
     "status": "completed"
    },
    "tags": []
   },
   "source": [
    "### Hypertension"
   ]
  },
  {
   "cell_type": "code",
   "execution_count": 22,
   "id": "199e66d5",
   "metadata": {
    "papermill": {
     "duration": 0.044753,
     "end_time": "2023-06-19T03:12:55.342911",
     "exception": false,
     "start_time": "2023-06-19T03:12:55.298158",
     "status": "completed"
    },
    "tags": []
   },
   "outputs": [
    {
     "data": {
      "text/html": [
       "<div>\n",
       "<style scoped>\n",
       "    .dataframe tbody tr th:only-of-type {\n",
       "        vertical-align: middle;\n",
       "    }\n",
       "\n",
       "    .dataframe tbody tr th {\n",
       "        vertical-align: top;\n",
       "    }\n",
       "\n",
       "    .dataframe thead th {\n",
       "        text-align: right;\n",
       "    }\n",
       "</style>\n",
       "<table border=\"1\" class=\"dataframe\">\n",
       "  <thead>\n",
       "    <tr style=\"text-align: right;\">\n",
       "      <th></th>\n",
       "      <th>hypertension</th>\n",
       "      <th>count</th>\n",
       "    </tr>\n",
       "  </thead>\n",
       "  <tbody>\n",
       "    <tr>\n",
       "      <th>0</th>\n",
       "      <td>0</td>\n",
       "      <td>149</td>\n",
       "    </tr>\n",
       "    <tr>\n",
       "      <th>1</th>\n",
       "      <td>1</td>\n",
       "      <td>60</td>\n",
       "    </tr>\n",
       "  </tbody>\n",
       "</table>\n",
       "</div>"
      ],
      "text/plain": [
       "   hypertension  count\n",
       "0             0    149\n",
       "1             1     60"
      ]
     },
     "execution_count": 22,
     "metadata": {},
     "output_type": "execute_result"
    }
   ],
   "source": [
    "#let's look at the persons who have hypertension\n",
    "hypertension_stroke = stroke_patients.groupby(['hypertension']).size().reset_index(name = 'count')\n",
    "hypertension_stroke"
   ]
  },
  {
   "cell_type": "code",
   "execution_count": 23,
   "id": "bba10355",
   "metadata": {
    "papermill": {
     "duration": 0.342637,
     "end_time": "2023-06-19T03:12:55.714372",
     "exception": false,
     "start_time": "2023-06-19T03:12:55.371735",
     "status": "completed"
    },
    "tags": []
   },
   "outputs": [
    {
     "data": {
      "text/plain": [
       "Text(0.5, 1.0, \"Comparison of Stroke Patients who have and don't have hypertension\")"
      ]
     },
     "execution_count": 23,
     "metadata": {},
     "output_type": "execute_result"
    },
    {
     "data": {
      "image/png": "[encoded data removed]",
      "text/plain": [
       "<Figure size 640x480 with 1 Axes>"
      ]
     },
     "metadata": {},
     "output_type": "display_data"
    }
   ],
   "source": [
    "sns.barplot(x='hypertension', y='count', data = hypertension_stroke)\n",
    "plt.title(\"Comparison of Stroke Patients who have and don't have hypertension\")"
   ]
  },
  {
   "cell_type": "markdown",
   "id": "dff94d8f",
   "metadata": {
    "papermill": {
     "duration": 0.029231,
     "end_time": "2023-06-19T03:12:55.776119",
     "exception": false,
     "start_time": "2023-06-19T03:12:55.746888",
     "status": "completed"
    },
    "tags": []
   },
   "source": [
    "Here we can see the of the 209 stroke patients, 60 patients had hypertension. While 149 did not, that 29% of the stroke patients."
   ]
  },
  {
   "cell_type": "markdown",
   "id": "4cb20bde",
   "metadata": {
    "papermill": {
     "duration": 0.030114,
     "end_time": "2023-06-19T03:12:55.843848",
     "exception": false,
     "start_time": "2023-06-19T03:12:55.813734",
     "status": "completed"
    },
    "tags": []
   },
   "source": [
    "### Heart Disease"
   ]
  },
  {
   "cell_type": "code",
   "execution_count": 24,
   "id": "76e41c64",
   "metadata": {
    "papermill": {
     "duration": 0.047645,
     "end_time": "2023-06-19T03:12:55.920560",
     "exception": false,
     "start_time": "2023-06-19T03:12:55.872915",
     "status": "completed"
    },
    "tags": []
   },
   "outputs": [
    {
     "data": {
      "text/html": [
       "<div>\n",
       "<style scoped>\n",
       "    .dataframe tbody tr th:only-of-type {\n",
       "        vertical-align: middle;\n",
       "    }\n",
       "\n",
       "    .dataframe tbody tr th {\n",
       "        vertical-align: top;\n",
       "    }\n",
       "\n",
       "    .dataframe thead th {\n",
       "        text-align: right;\n",
       "    }\n",
       "</style>\n",
       "<table border=\"1\" class=\"dataframe\">\n",
       "  <thead>\n",
       "    <tr style=\"text-align: right;\">\n",
       "      <th></th>\n",
       "      <th>heart_disease</th>\n",
       "      <th>count</th>\n",
       "    </tr>\n",
       "  </thead>\n",
       "  <tbody>\n",
       "    <tr>\n",
       "      <th>0</th>\n",
       "      <td>0</td>\n",
       "      <td>169</td>\n",
       "    </tr>\n",
       "    <tr>\n",
       "      <th>1</th>\n",
       "      <td>1</td>\n",
       "      <td>40</td>\n",
       "    </tr>\n",
       "  </tbody>\n",
       "</table>\n",
       "</div>"
      ],
      "text/plain": [
       "   heart_disease  count\n",
       "0              0    169\n",
       "1              1     40"
      ]
     },
     "execution_count": 24,
     "metadata": {},
     "output_type": "execute_result"
    }
   ],
   "source": [
    "#let's look at heart disease\n",
    "heart_disease = stroke_patients.groupby(['heart_disease']).size().reset_index(name = 'count')\n",
    "heart_disease"
   ]
  },
  {
   "cell_type": "code",
   "execution_count": 25,
   "id": "77193a8c",
   "metadata": {
    "papermill": {
     "duration": 0.365784,
     "end_time": "2023-06-19T03:12:56.323524",
     "exception": false,
     "start_time": "2023-06-19T03:12:55.957740",
     "status": "completed"
    },
    "tags": []
   },
   "outputs": [
    {
     "data": {
      "text/plain": [
       "Text(0.5, 1.0, \"Bar Graph showing stroke patients who have and don't have heart diseases\")"
      ]
     },
     "execution_count": 25,
     "metadata": {},
     "output_type": "execute_result"
    },
    {
     "data": {
      "image/png": "[encoded data removed]",
      "text/plain": [
       "<Figure size 640x480 with 1 Axes>"
      ]
     },
     "metadata": {},
     "output_type": "display_data"
    }
   ],
   "source": [
    "sns.barplot(x = 'heart_disease',y='count', data = heart_disease )\n",
    "plt.title(\"Bar Graph showing stroke patients who have and don't have heart diseases\")"
   ]
  },
  {
   "cell_type": "markdown",
   "id": "a985e8b6",
   "metadata": {
    "papermill": {
     "duration": 0.029664,
     "end_time": "2023-06-19T03:12:56.387071",
     "exception": false,
     "start_time": "2023-06-19T03:12:56.357407",
     "status": "completed"
    },
    "tags": []
   },
   "source": [
    "We can see that a smaller percentage of stroke patients have heart diseases. Of the 209 patients, 40 of them (19%) have heart disease while 169 don't. "
   ]
  },
  {
   "cell_type": "markdown",
   "id": "f80ea39e",
   "metadata": {
    "papermill": {
     "duration": 0.029972,
     "end_time": "2023-06-19T03:12:56.446913",
     "exception": false,
     "start_time": "2023-06-19T03:12:56.416941",
     "status": "completed"
    },
    "tags": []
   },
   "source": [
    "### Marriage"
   ]
  },
  {
   "cell_type": "code",
   "execution_count": 26,
   "id": "99dd9afb",
   "metadata": {
    "papermill": {
     "duration": 0.047212,
     "end_time": "2023-06-19T03:12:56.524678",
     "exception": false,
     "start_time": "2023-06-19T03:12:56.477466",
     "status": "completed"
    },
    "tags": []
   },
   "outputs": [
    {
     "data": {
      "text/html": [
       "<div>\n",
       "<style scoped>\n",
       "    .dataframe tbody tr th:only-of-type {\n",
       "        vertical-align: middle;\n",
       "    }\n",
       "\n",
       "    .dataframe tbody tr th {\n",
       "        vertical-align: top;\n",
       "    }\n",
       "\n",
       "    .dataframe thead th {\n",
       "        text-align: right;\n",
       "    }\n",
       "</style>\n",
       "<table border=\"1\" class=\"dataframe\">\n",
       "  <thead>\n",
       "    <tr style=\"text-align: right;\">\n",
       "      <th></th>\n",
       "      <th>ever_married</th>\n",
       "      <th>count</th>\n",
       "    </tr>\n",
       "  </thead>\n",
       "  <tbody>\n",
       "    <tr>\n",
       "      <th>0</th>\n",
       "      <td>No</td>\n",
       "      <td>23</td>\n",
       "    </tr>\n",
       "    <tr>\n",
       "      <th>1</th>\n",
       "      <td>Yes</td>\n",
       "      <td>186</td>\n",
       "    </tr>\n",
       "  </tbody>\n",
       "</table>\n",
       "</div>"
      ],
      "text/plain": [
       "  ever_married  count\n",
       "0           No     23\n",
       "1          Yes    186"
      ]
     },
     "execution_count": 26,
     "metadata": {},
     "output_type": "execute_result"
    }
   ],
   "source": [
    "#let's look at if these patients were ever married\n",
    "marriage = stroke_patients.groupby(['ever_married']).size().reset_index(name = 'count')\n",
    "marriage"
   ]
  },
  {
   "cell_type": "code",
   "execution_count": 27,
   "id": "184b7731",
   "metadata": {
    "papermill": {
     "duration": 0.336656,
     "end_time": "2023-06-19T03:12:56.891382",
     "exception": false,
     "start_time": "2023-06-19T03:12:56.554726",
     "status": "completed"
    },
    "tags": []
   },
   "outputs": [
    {
     "data": {
      "text/plain": [
       "Text(0.5, 1.0, 'Bar Plot showing stroke patients who are married and never married')"
      ]
     },
     "execution_count": 27,
     "metadata": {},
     "output_type": "execute_result"
    },
    {
     "data": {
      "image/png": "[encoded data removed]",
      "text/plain": [
       "<Figure size 640x480 with 1 Axes>"
      ]
     },
     "metadata": {},
     "output_type": "display_data"
    }
   ],
   "source": [
    "sns.barplot(x='ever_married', y='count', data =marriage)\n",
    "plt.title('Bar Plot showing stroke patients who are married and never married')"
   ]
  },
  {
   "cell_type": "markdown",
   "id": "1e5fed4a",
   "metadata": {
    "papermill": {
     "duration": 0.030136,
     "end_time": "2023-06-19T03:12:56.951680",
     "exception": false,
     "start_time": "2023-06-19T03:12:56.921544",
     "status": "completed"
    },
    "tags": []
   },
   "source": [
    "Wow, so many married folks. Of the 209 stroke patients, 186 of them were married. While 23 of them were not. This accountd for 89% of the stroke patients being married."
   ]
  },
  {
   "cell_type": "markdown",
   "id": "c3338487",
   "metadata": {
    "papermill": {
     "duration": 0.030336,
     "end_time": "2023-06-19T03:12:57.012473",
     "exception": false,
     "start_time": "2023-06-19T03:12:56.982137",
     "status": "completed"
    },
    "tags": []
   },
   "source": [
    "### Work Type"
   ]
  },
  {
   "cell_type": "code",
   "execution_count": 28,
   "id": "4a3901bd",
   "metadata": {
    "papermill": {
     "duration": 0.048267,
     "end_time": "2023-06-19T03:12:57.091239",
     "exception": false,
     "start_time": "2023-06-19T03:12:57.042972",
     "status": "completed"
    },
    "tags": []
   },
   "outputs": [
    {
     "data": {
      "text/html": [
       "<div>\n",
       "<style scoped>\n",
       "    .dataframe tbody tr th:only-of-type {\n",
       "        vertical-align: middle;\n",
       "    }\n",
       "\n",
       "    .dataframe tbody tr th {\n",
       "        vertical-align: top;\n",
       "    }\n",
       "\n",
       "    .dataframe thead th {\n",
       "        text-align: right;\n",
       "    }\n",
       "</style>\n",
       "<table border=\"1\" class=\"dataframe\">\n",
       "  <thead>\n",
       "    <tr style=\"text-align: right;\">\n",
       "      <th></th>\n",
       "      <th>work_type</th>\n",
       "      <th>count</th>\n",
       "    </tr>\n",
       "  </thead>\n",
       "  <tbody>\n",
       "    <tr>\n",
       "      <th>0</th>\n",
       "      <td>Govt_job</td>\n",
       "      <td>28</td>\n",
       "    </tr>\n",
       "    <tr>\n",
       "      <th>1</th>\n",
       "      <td>Private</td>\n",
       "      <td>127</td>\n",
       "    </tr>\n",
       "    <tr>\n",
       "      <th>2</th>\n",
       "      <td>Self-employed</td>\n",
       "      <td>53</td>\n",
       "    </tr>\n",
       "    <tr>\n",
       "      <th>3</th>\n",
       "      <td>children</td>\n",
       "      <td>1</td>\n",
       "    </tr>\n",
       "  </tbody>\n",
       "</table>\n",
       "</div>"
      ],
      "text/plain": [
       "       work_type  count\n",
       "0       Govt_job     28\n",
       "1        Private    127\n",
       "2  Self-employed     53\n",
       "3       children      1"
      ]
     },
     "execution_count": 28,
     "metadata": {},
     "output_type": "execute_result"
    }
   ],
   "source": [
    "#let's look at the work type\n",
    "work_type = stroke_patients.groupby(['work_type']).size().reset_index(name = 'count')\n",
    "work_type"
   ]
  },
  {
   "cell_type": "code",
   "execution_count": 29,
   "id": "b5d4d7aa",
   "metadata": {
    "papermill": {
     "duration": 0.353802,
     "end_time": "2023-06-19T03:12:57.476079",
     "exception": false,
     "start_time": "2023-06-19T03:12:57.122277",
     "status": "completed"
    },
    "tags": []
   },
   "outputs": [
    {
     "data": {
      "text/plain": [
       "Text(0.5, 1.0, 'Showing the different type of work done by stroke patients')"
      ]
     },
     "execution_count": 29,
     "metadata": {},
     "output_type": "execute_result"
    },
    {
     "data": {
      "image/png": "[encoded data removed]",
      "text/plain": [
       "<Figure size 640x480 with 1 Axes>"
      ]
     },
     "metadata": {},
     "output_type": "display_data"
    }
   ],
   "source": [
    "sns.barplot(x= 'work_type', y= 'count', data = work_type)\n",
    "plt.title('Showing the different type of work done by stroke patients')"
   ]
  },
  {
   "cell_type": "markdown",
   "id": "8871908a",
   "metadata": {
    "papermill": {
     "duration": 0.030939,
     "end_time": "2023-06-19T03:12:57.538534",
     "exception": false,
     "start_time": "2023-06-19T03:12:57.507595",
     "status": "completed"
    },
    "tags": []
   },
   "source": [
    "Here we can see that  patients who work in the private sector were more likely to have a stroke. That includes 127 patients, this accounts for 61% of the patients who had a stroke. Persons who work in the government sector were least unlikely to have a stroke. With the one exception of a child who had a stroke."
   ]
  },
  {
   "cell_type": "markdown",
   "id": "6190f937",
   "metadata": {
    "papermill": {
     "duration": 0.030912,
     "end_time": "2023-06-19T03:12:57.600768",
     "exception": false,
     "start_time": "2023-06-19T03:12:57.569856",
     "status": "completed"
    },
    "tags": []
   },
   "source": [
    "### Residence"
   ]
  },
  {
   "cell_type": "code",
   "execution_count": 30,
   "id": "b64460b2",
   "metadata": {
    "papermill": {
     "duration": 0.048569,
     "end_time": "2023-06-19T03:12:57.680444",
     "exception": false,
     "start_time": "2023-06-19T03:12:57.631875",
     "status": "completed"
    },
    "tags": []
   },
   "outputs": [
    {
     "data": {
      "text/html": [
       "<div>\n",
       "<style scoped>\n",
       "    .dataframe tbody tr th:only-of-type {\n",
       "        vertical-align: middle;\n",
       "    }\n",
       "\n",
       "    .dataframe tbody tr th {\n",
       "        vertical-align: top;\n",
       "    }\n",
       "\n",
       "    .dataframe thead th {\n",
       "        text-align: right;\n",
       "    }\n",
       "</style>\n",
       "<table border=\"1\" class=\"dataframe\">\n",
       "  <thead>\n",
       "    <tr style=\"text-align: right;\">\n",
       "      <th></th>\n",
       "      <th>Residence_type</th>\n",
       "      <th>count</th>\n",
       "    </tr>\n",
       "  </thead>\n",
       "  <tbody>\n",
       "    <tr>\n",
       "      <th>0</th>\n",
       "      <td>Rural</td>\n",
       "      <td>100</td>\n",
       "    </tr>\n",
       "    <tr>\n",
       "      <th>1</th>\n",
       "      <td>Urban</td>\n",
       "      <td>109</td>\n",
       "    </tr>\n",
       "  </tbody>\n",
       "</table>\n",
       "</div>"
      ],
      "text/plain": [
       "  Residence_type  count\n",
       "0          Rural    100\n",
       "1          Urban    109"
      ]
     },
     "execution_count": 30,
     "metadata": {},
     "output_type": "execute_result"
    }
   ],
   "source": [
    "#let's also look into their residence type\n",
    "residence = stroke_patients.groupby(['Residence_type']).size().reset_index(name ='count')\n",
    "residence"
   ]
  },
  {
   "cell_type": "code",
   "execution_count": 31,
   "id": "a63a840c",
   "metadata": {
    "papermill": {
     "duration": 0.318336,
     "end_time": "2023-06-19T03:12:58.030073",
     "exception": false,
     "start_time": "2023-06-19T03:12:57.711737",
     "status": "completed"
    },
    "tags": []
   },
   "outputs": [
    {
     "data": {
      "text/plain": [
       "Text(0.5, 1.0, 'Bar plot showing comparison of residence for stroke patients')"
      ]
     },
     "execution_count": 31,
     "metadata": {},
     "output_type": "execute_result"
    },
    {
     "data": {
      "image/png": "[encoded data removed]",
      "text/plain": [
       "<Figure size 640x480 with 1 Axes>"
      ]
     },
     "metadata": {},
     "output_type": "display_data"
    }
   ],
   "source": [
    "sns.barplot(x='Residence_type', y='count', data=residence)\n",
    "plt.title('Bar plot showing comparison of residence for stroke patients')"
   ]
  },
  {
   "cell_type": "markdown",
   "id": "d05d7822",
   "metadata": {
    "papermill": {
     "duration": 0.031926,
     "end_time": "2023-06-19T03:12:58.094270",
     "exception": false,
     "start_time": "2023-06-19T03:12:58.062344",
     "status": "completed"
    },
    "tags": []
   },
   "source": [
    "Here we can see that there is a somewhat an even distribution of the type of residence of stroke patients, between rural and urban residence."
   ]
  },
  {
   "cell_type": "markdown",
   "id": "c065e5e0",
   "metadata": {
    "papermill": {
     "duration": 0.031947,
     "end_time": "2023-06-19T03:12:58.158262",
     "exception": false,
     "start_time": "2023-06-19T03:12:58.126315",
     "status": "completed"
    },
    "tags": []
   },
   "source": [
    "### Average Glucose Level"
   ]
  },
  {
   "cell_type": "markdown",
   "id": "25193f53",
   "metadata": {
    "papermill": {
     "duration": 0.031813,
     "end_time": "2023-06-19T03:12:58.223137",
     "exception": false,
     "start_time": "2023-06-19T03:12:58.191324",
     "status": "completed"
    },
    "tags": []
   },
   "source": [
    "Let's look at the average glucose level. We will place them into bins amd categorize them.\n",
    "According to The U.S. National Institutes of Health, \n",
    "* A normal fasting glucose level should be below 99 Mg.\n",
    "* 100 to 125 mg indicates you have prediabetes\n",
    "* 126 or higher indicates that you have diabetes.\n",
    "\n",
    "We will use the metric to group the stroke patients."
   ]
  },
  {
   "cell_type": "code",
   "execution_count": 32,
   "id": "c637a906",
   "metadata": {
    "papermill": {
     "duration": 0.056284,
     "end_time": "2023-06-19T03:12:58.311664",
     "exception": false,
     "start_time": "2023-06-19T03:12:58.255380",
     "status": "completed"
    },
    "tags": []
   },
   "outputs": [
    {
     "name": "stderr",
     "output_type": "stream",
     "text": [
      "/tmp/ipykernel_7031/2146598893.py:2: SettingWithCopyWarning: \n",
      "A value is trying to be set on a copy of a slice from a DataFrame.\n",
      "Try using .loc[row_indexer,col_indexer] = value instead\n",
      "\n",
      "See the caveats in the documentation: https://pandas.pydata.org/pandas-docs/stable/user_guide/indexing.html#returning-a-view-versus-a-copy\n",
      "  stroke_patients['avg_glucose_level'] = stroke_patients['avg_glucose_level'].astype(int)\n",
      "/tmp/ipykernel_7031/2146598893.py:11: SettingWithCopyWarning: \n",
      "A value is trying to be set on a copy of a slice from a DataFrame.\n",
      "Try using .loc[row_indexer,col_indexer] = value instead\n",
      "\n",
      "See the caveats in the documentation: https://pandas.pydata.org/pandas-docs/stable/user_guide/indexing.html#returning-a-view-versus-a-copy\n",
      "  stroke_patients['avg_glucose_level'] = pd.cut(stroke_patients['avg_glucose_level'], bins=glu_range, labels=labels)\n"
     ]
    },
    {
     "data": {
      "text/html": [
       "<div>\n",
       "<style scoped>\n",
       "    .dataframe tbody tr th:only-of-type {\n",
       "        vertical-align: middle;\n",
       "    }\n",
       "\n",
       "    .dataframe tbody tr th {\n",
       "        vertical-align: top;\n",
       "    }\n",
       "\n",
       "    .dataframe thead th {\n",
       "        text-align: right;\n",
       "    }\n",
       "</style>\n",
       "<table border=\"1\" class=\"dataframe\">\n",
       "  <thead>\n",
       "    <tr style=\"text-align: right;\">\n",
       "      <th></th>\n",
       "      <th>avg_glucose_level</th>\n",
       "      <th>count</th>\n",
       "    </tr>\n",
       "  </thead>\n",
       "  <tbody>\n",
       "    <tr>\n",
       "      <th>0</th>\n",
       "      <td>0 to 99</td>\n",
       "      <td>93</td>\n",
       "    </tr>\n",
       "    <tr>\n",
       "      <th>1</th>\n",
       "      <td>100 to 125</td>\n",
       "      <td>29</td>\n",
       "    </tr>\n",
       "    <tr>\n",
       "      <th>2</th>\n",
       "      <td>126 and over</td>\n",
       "      <td>87</td>\n",
       "    </tr>\n",
       "  </tbody>\n",
       "</table>\n",
       "</div>"
      ],
      "text/plain": [
       "  avg_glucose_level  count\n",
       "0           0 to 99     93\n",
       "1        100 to 125     29\n",
       "2      126 and over     87"
      ]
     },
     "execution_count": 32,
     "metadata": {},
     "output_type": "execute_result"
    }
   ],
   "source": [
    "# Convert 'avg_glucose_level' column to numeric type\n",
    "stroke_patients['avg_glucose_level'] = stroke_patients['avg_glucose_level'].astype(int)\n",
    "\n",
    "# Define the glucose range including the lower and upper bounds\n",
    "glu_range = [0, 99, 125, float('inf')]\n",
    "\n",
    "# Assign labels to each bin\n",
    "labels = ['0 to 99', '100 to 125', '126 and over']\n",
    "\n",
    "# Perform binning based on glucose range and labels\n",
    "stroke_patients['avg_glucose_level'] = pd.cut(stroke_patients['avg_glucose_level'], bins=glu_range, labels=labels)\n",
    "\n",
    "# Group the data and count the occurrences of each group\n",
    "glu_group = stroke_patients.groupby('avg_glucose_level').size().reset_index(name='count')\n",
    "\n",
    "glu_group"
   ]
  },
  {
   "cell_type": "code",
   "execution_count": 33,
   "id": "f62ee454",
   "metadata": {
    "papermill": {
     "duration": 0.43602,
     "end_time": "2023-06-19T03:12:58.780534",
     "exception": false,
     "start_time": "2023-06-19T03:12:58.344514",
     "status": "completed"
    },
    "tags": []
   },
   "outputs": [
    {
     "data": {
      "text/plain": [
       "<Axes: xlabel='avg_glucose_level', ylabel='count'>"
      ]
     },
     "execution_count": 33,
     "metadata": {},
     "output_type": "execute_result"
    },
    {
     "data": {
      "image/png": "[encoded data removed]",
      "text/plain": [
       "<Figure size 640x480 with 1 Axes>"
      ]
     },
     "metadata": {},
     "output_type": "display_data"
    }
   ],
   "source": [
    "sns.barplot(x='avg_glucose_level', y = 'count', data = glu_group)"
   ]
  },
  {
   "cell_type": "markdown",
   "id": "4f9fd4ce",
   "metadata": {
    "papermill": {
     "duration": 0.034258,
     "end_time": "2023-06-19T03:12:58.848141",
     "exception": false,
     "start_time": "2023-06-19T03:12:58.813883",
     "status": "completed"
    },
    "tags": []
   },
   "source": [
    "Here we can see that 93 of the stroke patients had a normal bloodsugar level. With over 50% of the stroke patients having diabetes."
   ]
  },
  {
   "cell_type": "markdown",
   "id": "69ae50db",
   "metadata": {
    "papermill": {
     "duration": 0.032738,
     "end_time": "2023-06-19T03:12:58.914078",
     "exception": false,
     "start_time": "2023-06-19T03:12:58.881340",
     "status": "completed"
    },
    "tags": []
   },
   "source": [
    "### BMI"
   ]
  },
  {
   "cell_type": "markdown",
   "id": "ca96e38d",
   "metadata": {
    "execution": {
     "iopub.execute_input": "2023-05-30T05:54:29.490931Z",
     "iopub.status.busy": "2023-05-30T05:54:29.490439Z",
     "iopub.status.idle": "2023-05-30T05:54:29.500452Z",
     "shell.execute_reply": "2023-05-30T05:54:29.498858Z",
     "shell.execute_reply.started": "2023-05-30T05:54:29.490881Z"
    },
    "papermill": {
     "duration": 0.032522,
     "end_time": "2023-06-19T03:12:58.979192",
     "exception": false,
     "start_time": "2023-06-19T03:12:58.946670",
     "status": "completed"
    },
    "tags": []
   },
   "source": [
    "Let's look at BMI, we will use the following criteria below to categorize the stroke patients BMI.\n",
    "* If your BMI is less than 18.5, it falls within the underweight range.\n",
    "* If your BMI is 18.5 to <25, it falls within the healthy weight range.\n",
    "* If your BMI is 25.0 to <30, it falls within the overweight range.\n",
    "* If your BMI is 30.0 or higher, it falls within the obesity range."
   ]
  },
  {
   "cell_type": "code",
   "execution_count": 34,
   "id": "b028fd78",
   "metadata": {
    "papermill": {
     "duration": 0.054609,
     "end_time": "2023-06-19T03:12:59.066677",
     "exception": false,
     "start_time": "2023-06-19T03:12:59.012068",
     "status": "completed"
    },
    "tags": []
   },
   "outputs": [
    {
     "name": "stderr",
     "output_type": "stream",
     "text": [
      "/tmp/ipykernel_7031/1915846607.py:11: SettingWithCopyWarning: \n",
      "A value is trying to be set on a copy of a slice from a DataFrame.\n",
      "Try using .loc[row_indexer,col_indexer] = value instead\n",
      "\n",
      "See the caveats in the documentation: https://pandas.pydata.org/pandas-docs/stable/user_guide/indexing.html#returning-a-view-versus-a-copy\n",
      "  stroke_patients['bmi'] = pd.cut(stroke_patients['bmi'], bins=bmi_range, labels=labels)\n"
     ]
    },
    {
     "data": {
      "text/html": [
       "<div>\n",
       "<style scoped>\n",
       "    .dataframe tbody tr th:only-of-type {\n",
       "        vertical-align: middle;\n",
       "    }\n",
       "\n",
       "    .dataframe tbody tr th {\n",
       "        vertical-align: top;\n",
       "    }\n",
       "\n",
       "    .dataframe thead th {\n",
       "        text-align: right;\n",
       "    }\n",
       "</style>\n",
       "<table border=\"1\" class=\"dataframe\">\n",
       "  <thead>\n",
       "    <tr style=\"text-align: right;\">\n",
       "      <th></th>\n",
       "      <th>bmi</th>\n",
       "      <th>count</th>\n",
       "    </tr>\n",
       "  </thead>\n",
       "  <tbody>\n",
       "    <tr>\n",
       "      <th>0</th>\n",
       "      <td>0 to 18.4</td>\n",
       "      <td>1</td>\n",
       "    </tr>\n",
       "    <tr>\n",
       "      <th>1</th>\n",
       "      <td>18.5 to 24.9</td>\n",
       "      <td>37</td>\n",
       "    </tr>\n",
       "    <tr>\n",
       "      <th>2</th>\n",
       "      <td>25.0 to 29.9</td>\n",
       "      <td>75</td>\n",
       "    </tr>\n",
       "    <tr>\n",
       "      <th>3</th>\n",
       "      <td>30.0 and over</td>\n",
       "      <td>96</td>\n",
       "    </tr>\n",
       "  </tbody>\n",
       "</table>\n",
       "</div>"
      ],
      "text/plain": [
       "             bmi  count\n",
       "0      0 to 18.4      1\n",
       "1   18.5 to 24.9     37\n",
       "2   25.0 to 29.9     75\n",
       "3  30.0 and over     96"
      ]
     },
     "execution_count": 34,
     "metadata": {},
     "output_type": "execute_result"
    }
   ],
   "source": [
    "# Convert 'avg_glucose_level' column to numeric type\n",
    "\n",
    "\n",
    "# Define the glucose range including the lower and upper bounds\n",
    "bmi_range = [0, 18.4, 25.0, 30.0, float('inf')]\n",
    "\n",
    "# Assign labels to each bin\n",
    "labels = ['0 to 18.4', '18.5 to 24.9', '25.0 to 29.9', '30.0 and over']\n",
    "\n",
    "# Perform binning based on glucose range and labels\n",
    "stroke_patients['bmi'] = pd.cut(stroke_patients['bmi'], bins=bmi_range, labels=labels)\n",
    "\n",
    "# Group the data and count the occurrences of each group\n",
    "bmi_group = stroke_patients.groupby('bmi').size().reset_index(name='count')\n",
    "\n",
    "bmi_group"
   ]
  },
  {
   "cell_type": "code",
   "execution_count": 35,
   "id": "9e3a2786",
   "metadata": {
    "papermill": {
     "duration": 0.292308,
     "end_time": "2023-06-19T03:12:59.391961",
     "exception": false,
     "start_time": "2023-06-19T03:12:59.099653",
     "status": "completed"
    },
    "tags": []
   },
   "outputs": [
    {
     "data": {
      "text/plain": [
       "<Axes: xlabel='bmi', ylabel='count'>"
      ]
     },
     "execution_count": 35,
     "metadata": {},
     "output_type": "execute_result"
    },
    {
     "data": {
      "image/png": "[encoded data removed]",
      "text/plain": [
       "<Figure size 640x480 with 1 Axes>"
      ]
     },
     "metadata": {},
     "output_type": "display_data"
    }
   ],
   "source": [
    "sns.barplot(x='bmi', y='count', data = bmi_group)"
   ]
  },
  {
   "cell_type": "markdown",
   "id": "17b408ad",
   "metadata": {
    "papermill": {
     "duration": 0.033357,
     "end_time": "2023-06-19T03:12:59.459448",
     "exception": false,
     "start_time": "2023-06-19T03:12:59.426091",
     "status": "completed"
    },
    "tags": []
   },
   "source": [
    "Here we can see that about 50% of the stroke patients have a bmi of 30.0 and over, and are categorized as obese, and also 75 stroke patients also fall into the overweight range."
   ]
  },
  {
   "cell_type": "markdown",
   "id": "293e3b54",
   "metadata": {
    "papermill": {
     "duration": 0.033028,
     "end_time": "2023-06-19T03:12:59.525923",
     "exception": false,
     "start_time": "2023-06-19T03:12:59.492895",
     "status": "completed"
    },
    "tags": []
   },
   "source": [
    "### Smoking Status"
   ]
  },
  {
   "cell_type": "code",
   "execution_count": 36,
   "id": "d66d40fd",
   "metadata": {
    "papermill": {
     "duration": 0.051153,
     "end_time": "2023-06-19T03:12:59.610730",
     "exception": false,
     "start_time": "2023-06-19T03:12:59.559577",
     "status": "completed"
    },
    "tags": []
   },
   "outputs": [
    {
     "data": {
      "text/html": [
       "<div>\n",
       "<style scoped>\n",
       "    .dataframe tbody tr th:only-of-type {\n",
       "        vertical-align: middle;\n",
       "    }\n",
       "\n",
       "    .dataframe tbody tr th {\n",
       "        vertical-align: top;\n",
       "    }\n",
       "\n",
       "    .dataframe thead th {\n",
       "        text-align: right;\n",
       "    }\n",
       "</style>\n",
       "<table border=\"1\" class=\"dataframe\">\n",
       "  <thead>\n",
       "    <tr style=\"text-align: right;\">\n",
       "      <th></th>\n",
       "      <th>smoking_status</th>\n",
       "      <th>count</th>\n",
       "    </tr>\n",
       "  </thead>\n",
       "  <tbody>\n",
       "    <tr>\n",
       "      <th>0</th>\n",
       "      <td>Unknown</td>\n",
       "      <td>29</td>\n",
       "    </tr>\n",
       "    <tr>\n",
       "      <th>1</th>\n",
       "      <td>formerly smoked</td>\n",
       "      <td>57</td>\n",
       "    </tr>\n",
       "    <tr>\n",
       "      <th>2</th>\n",
       "      <td>never smoked</td>\n",
       "      <td>84</td>\n",
       "    </tr>\n",
       "    <tr>\n",
       "      <th>3</th>\n",
       "      <td>smokes</td>\n",
       "      <td>39</td>\n",
       "    </tr>\n",
       "  </tbody>\n",
       "</table>\n",
       "</div>"
      ],
      "text/plain": [
       "    smoking_status  count\n",
       "0          Unknown     29\n",
       "1  formerly smoked     57\n",
       "2     never smoked     84\n",
       "3           smokes     39"
      ]
     },
     "execution_count": 36,
     "metadata": {},
     "output_type": "execute_result"
    }
   ],
   "source": [
    "#smoking_status\n",
    "smoking_count = stroke_patients.groupby('smoking_status').size().reset_index(name = 'count')\n",
    "smoking_count"
   ]
  },
  {
   "cell_type": "code",
   "execution_count": 37,
   "id": "da96a1a3",
   "metadata": {
    "papermill": {
     "duration": 0.320025,
     "end_time": "2023-06-19T03:12:59.964585",
     "exception": false,
     "start_time": "2023-06-19T03:12:59.644560",
     "status": "completed"
    },
    "tags": []
   },
   "outputs": [
    {
     "data": {
      "text/plain": [
       "<Axes: xlabel='smoking_status', ylabel='count'>"
      ]
     },
     "execution_count": 37,
     "metadata": {},
     "output_type": "execute_result"
    },
    {
     "data": {
      "image/png": "[encoded data removed]",
      "text/plain": [
       "<Figure size 640x480 with 1 Axes>"
      ]
     },
     "metadata": {},
     "output_type": "display_data"
    }
   ],
   "source": [
    "sns.barplot(x='smoking_status', y='count', data = smoking_count)"
   ]
  },
  {
   "cell_type": "markdown",
   "id": "5609e081",
   "metadata": {
    "papermill": {
     "duration": 0.033974,
     "end_time": "2023-06-19T03:13:00.033167",
     "exception": false,
     "start_time": "2023-06-19T03:12:59.999193",
     "status": "completed"
    },
    "tags": []
   },
   "source": [
    "Here we can see that of the patients, 84 of them never smoked and 57 of them formally smoked."
   ]
  },
  {
   "cell_type": "markdown",
   "id": "8b23637f",
   "metadata": {
    "execution": {
     "iopub.execute_input": "2023-05-26T03:10:59.578234Z",
     "iopub.status.busy": "2023-05-26T03:10:59.577917Z",
     "iopub.status.idle": "2023-05-26T03:11:00.015232Z",
     "shell.execute_reply": "2023-05-26T03:11:00.014098Z",
     "shell.execute_reply.started": "2023-05-26T03:10:59.578206Z"
    },
    "papermill": {
     "duration": 0.039279,
     "end_time": "2023-06-19T03:13:00.106727",
     "exception": false,
     "start_time": "2023-06-19T03:13:00.067448",
     "status": "completed"
    },
    "tags": []
   },
   "source": [
    "# Model Evaluation\n",
    "For this assesment, we will be using the following models to predict how likely a patient will have a stroke. From the Explanatory Analysis above, we can clearly see a trend in the different age groups, persons who are married, gender, and the type of job. It seems that the residence type might not have a huge impact on the residence type."
   ]
  },
  {
   "cell_type": "code",
   "execution_count": 38,
   "id": "13a104d1",
   "metadata": {
    "papermill": {
     "duration": 0.720424,
     "end_time": "2023-06-19T03:13:00.862064",
     "exception": false,
     "start_time": "2023-06-19T03:13:00.141640",
     "status": "completed"
    },
    "tags": []
   },
   "outputs": [],
   "source": [
    "#import libraries \n",
    "from sklearn.linear_model import LogisticRegression\n",
    "from sklearn.tree import DecisionTreeClassifier\n",
    "from sklearn.ensemble import RandomForestClassifier, GradientBoostingClassifier\n",
    "from sklearn.svm import SVC\n",
    "from sklearn import preprocessing\n",
    "from sklearn.preprocessing import StandardScaler, OneHotEncoder\n",
    "from sklearn.pipeline import Pipeline\n",
    "from sklearn.model_selection import train_test_split, cross_val_score\n",
    "from sklearn.metrics import r2_score, accuracy_score\n",
    "from sklearn.compose import ColumnTransformer\n",
    "from sklearn.model_selection import GridSearchCV\n",
    "from sklearn.neighbors import KNeighborsClassifier"
   ]
  },
  {
   "cell_type": "code",
   "execution_count": 39,
   "id": "42522c53",
   "metadata": {
    "papermill": {
     "duration": 0.060364,
     "end_time": "2023-06-19T03:13:00.957239",
     "exception": false,
     "start_time": "2023-06-19T03:13:00.896875",
     "status": "completed"
    },
    "tags": []
   },
   "outputs": [
    {
     "name": "stdout",
     "output_type": "stream",
     "text": [
      "<class 'pandas.core.frame.DataFrame'>\n",
      "Int64Index: 4909 entries, 0 to 5109\n",
      "Data columns (total 12 columns):\n",
      " #   Column             Non-Null Count  Dtype  \n",
      "---  ------             --------------  -----  \n",
      " 0   id                 4909 non-null   int64  \n",
      " 1   gender             4909 non-null   object \n",
      " 2   age                4909 non-null   float64\n",
      " 3   hypertension       4909 non-null   int64  \n",
      " 4   heart_disease      4909 non-null   int64  \n",
      " 5   ever_married       4909 non-null   object \n",
      " 6   work_type          4909 non-null   object \n",
      " 7   Residence_type     4909 non-null   object \n",
      " 8   avg_glucose_level  4909 non-null   float64\n",
      " 9   bmi                4909 non-null   float64\n",
      " 10  smoking_status     4909 non-null   object \n",
      " 11  stroke             4909 non-null   int64  \n",
      "dtypes: float64(3), int64(4), object(5)\n",
      "memory usage: 498.6+ KB\n"
     ]
    }
   ],
   "source": [
    "stroke_df.info()"
   ]
  },
  {
   "cell_type": "code",
   "execution_count": 40,
   "id": "7ac11f66",
   "metadata": {
    "papermill": {
     "duration": 0.055978,
     "end_time": "2023-06-19T03:13:01.048535",
     "exception": false,
     "start_time": "2023-06-19T03:13:00.992557",
     "status": "completed"
    },
    "tags": []
   },
   "outputs": [],
   "source": [
    "features = stroke_df[['gender', 'ever_married', 'work_type', 'Residence_type', 'smoking_status']]\n",
    "\n",
    "#let's do one hot encoding on our numerical values\n",
    "features_one_hot = pd.get_dummies(features, columns=['gender', 'ever_married', 'work_type', 'Residence_type', 'smoking_status'])"
   ]
  },
  {
   "cell_type": "code",
   "execution_count": 41,
   "id": "85fbd068",
   "metadata": {
    "papermill": {
     "duration": 0.056789,
     "end_time": "2023-06-19T03:13:01.140086",
     "exception": false,
     "start_time": "2023-06-19T03:13:01.083297",
     "status": "completed"
    },
    "tags": []
   },
   "outputs": [],
   "source": [
    " \n",
    "X = pd.concat([features_one_hot, stroke_df[['hypertension', 'bmi', 'avg_glucose_level']]], axis = 1)\n",
    "y = stroke_df['stroke']\n",
    "\n",
    "#let's standardize the data\n",
    "X= preprocessing.StandardScaler().fit(X).transform(X)\n",
    "\n",
    "\n",
    "#let's split the data for testing and training\n",
    "train_X, test_X, train_y, test_y= train_test_split(X, y, random_state = 0)"
   ]
  },
  {
   "cell_type": "markdown",
   "id": "46917b4e",
   "metadata": {
    "papermill": {
     "duration": 0.034038,
     "end_time": "2023-06-19T03:13:01.209610",
     "exception": false,
     "start_time": "2023-06-19T03:13:01.175572",
     "status": "completed"
    },
    "tags": []
   },
   "source": [
    "# Logistic Regression "
   ]
  },
  {
   "cell_type": "code",
   "execution_count": 42,
   "id": "8b9f7c3b",
   "metadata": {
    "papermill": {
     "duration": 0.043601,
     "end_time": "2023-06-19T03:13:01.287674",
     "exception": false,
     "start_time": "2023-06-19T03:13:01.244073",
     "status": "completed"
    },
    "tags": []
   },
   "outputs": [],
   "source": [
    "#let's select the parameters\n",
    "parameters1 ={}\n",
    "#let's create a logistic regression object\n",
    "lr=LogisticRegression()\n",
    "#let's create a gridsearch object\n",
    "grid_search1 = GridSearchCV(lr,parameters1, cv=10)"
   ]
  },
  {
   "cell_type": "code",
   "execution_count": 43,
   "id": "856233c7",
   "metadata": {
    "papermill": {
     "duration": 0.345976,
     "end_time": "2023-06-19T03:13:01.668306",
     "exception": false,
     "start_time": "2023-06-19T03:13:01.322330",
     "status": "completed"
    },
    "tags": []
   },
   "outputs": [
    {
     "name": "stdout",
     "output_type": "stream",
     "text": [
      "accuracy : 0.9565335218569577\n"
     ]
    }
   ],
   "source": [
    "logreg_cv = grid_search1.fit(train_X, train_y)\n",
    "print(\"accuracy :\",logreg_cv.best_score_)"
   ]
  },
  {
   "cell_type": "markdown",
   "id": "141424b4",
   "metadata": {
    "papermill": {
     "duration": 0.055015,
     "end_time": "2023-06-19T03:13:01.795238",
     "exception": false,
     "start_time": "2023-06-19T03:13:01.740223",
     "status": "completed"
    },
    "tags": []
   },
   "source": [
    "# Decision Tree Classifier"
   ]
  },
  {
   "cell_type": "code",
   "execution_count": 44,
   "id": "4d772736",
   "metadata": {
    "papermill": {
     "duration": 0.047026,
     "end_time": "2023-06-19T03:13:01.877187",
     "exception": false,
     "start_time": "2023-06-19T03:13:01.830161",
     "status": "completed"
    },
    "tags": []
   },
   "outputs": [],
   "source": [
    "# Combine preprocessing and classifier into a pipeline\n",
    "parameters2 = {}\n",
    "\n",
    "tree = DecisionTreeClassifier()\n",
    "grid_search2 = GridSearchCV(tree, parameters2, cv = 10)\n"
   ]
  },
  {
   "cell_type": "code",
   "execution_count": 45,
   "id": "4941fdc1",
   "metadata": {
    "papermill": {
     "duration": 0.214707,
     "end_time": "2023-06-19T03:13:02.126942",
     "exception": false,
     "start_time": "2023-06-19T03:13:01.912235",
     "status": "completed"
    },
    "tags": []
   },
   "outputs": [
    {
     "name": "stdout",
     "output_type": "stream",
     "text": [
      "accuracy : 0.911987451396253\n"
     ]
    }
   ],
   "source": [
    "tree_cv = grid_search2.fit(train_X, train_y)\n",
    "print(\"accuracy :\",tree_cv.best_score_)"
   ]
  },
  {
   "cell_type": "markdown",
   "id": "d2546b03",
   "metadata": {
    "papermill": {
     "duration": 0.034939,
     "end_time": "2023-06-19T03:13:02.197379",
     "exception": false,
     "start_time": "2023-06-19T03:13:02.162440",
     "status": "completed"
    },
    "tags": []
   },
   "source": [
    "# Support Vector Machines "
   ]
  },
  {
   "cell_type": "code",
   "execution_count": 46,
   "id": "14eb6849",
   "metadata": {
    "papermill": {
     "duration": 0.043708,
     "end_time": "2023-06-19T03:13:02.276039",
     "exception": false,
     "start_time": "2023-06-19T03:13:02.232331",
     "status": "completed"
    },
    "tags": []
   },
   "outputs": [],
   "source": [
    "parameters4 = {}\n",
    "svm = SVC()\n",
    "grid_search4 = GridSearchCV(svm, parameters4, cv = 10)\n"
   ]
  },
  {
   "cell_type": "code",
   "execution_count": 47,
   "id": "a9458376",
   "metadata": {
    "papermill": {
     "duration": 2.10108,
     "end_time": "2023-06-19T03:13:04.412776",
     "exception": false,
     "start_time": "2023-06-19T03:13:02.311696",
     "status": "completed"
    },
    "tags": []
   },
   "outputs": [
    {
     "name": "stdout",
     "output_type": "stream",
     "text": [
      "accuracy : 0.9565335218569577\n"
     ]
    }
   ],
   "source": [
    "svm_cv = grid_search4.fit(train_X, train_y)\n",
    "print(\"accuracy :\",svm_cv.best_score_)"
   ]
  },
  {
   "cell_type": "markdown",
   "id": "59914197",
   "metadata": {
    "papermill": {
     "duration": 0.034727,
     "end_time": "2023-06-19T03:13:04.483269",
     "exception": false,
     "start_time": "2023-06-19T03:13:04.448542",
     "status": "completed"
    },
    "tags": []
   },
   "source": [
    "# KNN"
   ]
  },
  {
   "cell_type": "code",
   "execution_count": 48,
   "id": "cc9cc70a",
   "metadata": {
    "papermill": {
     "duration": 0.044681,
     "end_time": "2023-06-19T03:13:04.562810",
     "exception": false,
     "start_time": "2023-06-19T03:13:04.518129",
     "status": "completed"
    },
    "tags": []
   },
   "outputs": [],
   "source": [
    "parameters5 = {}\n",
    "\n",
    "KNN = KNeighborsClassifier()\n",
    "\n",
    "gridsearch5 = GridSearchCV(KNN, parameters5, cv = 10)"
   ]
  },
  {
   "cell_type": "code",
   "execution_count": 49,
   "id": "a90d43b8",
   "metadata": {
    "papermill": {
     "duration": 0.412073,
     "end_time": "2023-06-19T03:13:05.009939",
     "exception": false,
     "start_time": "2023-06-19T03:13:04.597866",
     "status": "completed"
    },
    "tags": []
   },
   "outputs": [
    {
     "name": "stdout",
     "output_type": "stream",
     "text": [
      "accuracy : 0.956261782726523\n"
     ]
    }
   ],
   "source": [
    "knn_cv = gridsearch5.fit(train_X, train_y)\n",
    "print(\"accuracy :\",knn_cv.best_score_)"
   ]
  },
  {
   "cell_type": "code",
   "execution_count": 50,
   "id": "a3952d0a",
   "metadata": {
    "papermill": {
     "duration": 0.259447,
     "end_time": "2023-06-19T03:13:05.310789",
     "exception": false,
     "start_time": "2023-06-19T03:13:05.051342",
     "status": "completed"
    },
    "tags": []
   },
   "outputs": [
    {
     "name": "stdout",
     "output_type": "stream",
     "text": [
      "Accuracy for Logistics Regression method: 0.9600977198697068\n",
      "Accuracy for Support Vector Machine method: 0.9600977198697068\n",
      "Accuracy for Decision tree method: 0.9185667752442996\n",
      "Accuracy for K nearest neighbors method: 0.9576547231270358\n"
     ]
    }
   ],
   "source": [
    "print('Accuracy for Logistics Regression method:', logreg_cv.score(test_X, test_y))\n",
    "print( 'Accuracy for Support Vector Machine method:', svm_cv.score(test_X, test_y))\n",
    "print('Accuracy for Decision tree method:', tree_cv.score(test_X, test_y))\n",
    "print('Accuracy for K nearest neighbors method:', knn_cv.score(test_X, test_y))"
   ]
  }
 ],
 "metadata": {
  "kernelspec": {
   "display_name": "Python 3 (ipykernel)",
   "language": "python",
   "name": "python3"
  },
  "language_info": {
   "codemirror_mode": {
    "name": "ipython",
    "version": 3
   },
   "file_extension": ".py",
   "mimetype": "text/x-python",
   "name": "python",
   "nbconvert_exporter": "python",
   "pygments_lexer": "ipython3",
   "version": "3.10.9"
  },
  "papermill": {
   "default_parameters": {},
   "duration": 30.49429,
   "end_time": "2023-06-19T03:13:06.570569",
   "environment_variables": {},
   "exception": null,
   "input_path": "__notebook__.ipynb",
   "output_path": "__notebook__.ipynb",
   "parameters": {},
   "start_time": "2023-06-19T03:12:36.076279",
   "version": "2.4.0"
  }
 },
 "nbformat": 4,
 "nbformat_minor": 5
}
